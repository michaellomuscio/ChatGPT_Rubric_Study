{
  "nbformat": 4,
  "nbformat_minor": 0,
  "metadata": {
    "colab": {
      "provenance": [],
      "authorship_tag": "ABX9TyMeRbZ1jP8YCsRM9eKx9uPU",
      "include_colab_link": true
    },
    "kernelspec": {
      "name": "python3",
      "display_name": "Python 3"
    },
    "language_info": {
      "name": "python"
    }
  },
  "cells": [
    {
      "cell_type": "markdown",
      "metadata": {
        "id": "view-in-github",
        "colab_type": "text"
      },
      "source": [
        "<a href=\"https://colab.research.google.com/github/michaellomuscio/ChatGPT_Rubric_Study/blob/main/RubricStudyCode.ipynb\" target=\"_parent\"><img src=\"https://colab.research.google.com/assets/colab-badge.svg\" alt=\"Open In Colab\"/></a>"
      ]
    },
    {
      "cell_type": "markdown",
      "source": [
        "# Using ChatGPT to Score Writing Using a Rubric"
      ],
      "metadata": {
        "id": "DanEAIr22ujH"
      }
    },
    {
      "cell_type": "markdown",
      "source": [
        "Install the OpenAI API library"
      ],
      "metadata": {
        "id": "GCZWhyqc221Z"
      }
    },
    {
      "cell_type": "code",
      "execution_count": 1,
      "metadata": {
        "colab": {
          "base_uri": "https://localhost:8080/"
        },
        "id": "ozsLMLpc2ldv",
        "outputId": "1ebce849-7b31-4eb6-c4c7-d03dca5db81d"
      },
      "outputs": [
        {
          "output_type": "stream",
          "name": "stdout",
          "text": [
            "Collecting openai\n",
            "  Downloading openai-0.28.0-py3-none-any.whl (76 kB)\n",
            "\u001b[2K     \u001b[90m━━━━━━━━━━━━━━━━━━━━━━━━━━━━━━━━━━━━━━━━\u001b[0m \u001b[32m76.5/76.5 kB\u001b[0m \u001b[31m1.5 MB/s\u001b[0m eta \u001b[36m0:00:00\u001b[0m\n",
            "\u001b[?25hRequirement already satisfied: requests>=2.20 in /usr/local/lib/python3.10/dist-packages (from openai) (2.31.0)\n",
            "Requirement already satisfied: tqdm in /usr/local/lib/python3.10/dist-packages (from openai) (4.66.1)\n",
            "Requirement already satisfied: aiohttp in /usr/local/lib/python3.10/dist-packages (from openai) (3.8.5)\n",
            "Requirement already satisfied: charset-normalizer<4,>=2 in /usr/local/lib/python3.10/dist-packages (from requests>=2.20->openai) (3.2.0)\n",
            "Requirement already satisfied: idna<4,>=2.5 in /usr/local/lib/python3.10/dist-packages (from requests>=2.20->openai) (3.4)\n",
            "Requirement already satisfied: urllib3<3,>=1.21.1 in /usr/local/lib/python3.10/dist-packages (from requests>=2.20->openai) (2.0.4)\n",
            "Requirement already satisfied: certifi>=2017.4.17 in /usr/local/lib/python3.10/dist-packages (from requests>=2.20->openai) (2023.7.22)\n",
            "Requirement already satisfied: attrs>=17.3.0 in /usr/local/lib/python3.10/dist-packages (from aiohttp->openai) (23.1.0)\n",
            "Requirement already satisfied: multidict<7.0,>=4.5 in /usr/local/lib/python3.10/dist-packages (from aiohttp->openai) (6.0.4)\n",
            "Requirement already satisfied: async-timeout<5.0,>=4.0.0a3 in /usr/local/lib/python3.10/dist-packages (from aiohttp->openai) (4.0.3)\n",
            "Requirement already satisfied: yarl<2.0,>=1.0 in /usr/local/lib/python3.10/dist-packages (from aiohttp->openai) (1.9.2)\n",
            "Requirement already satisfied: frozenlist>=1.1.1 in /usr/local/lib/python3.10/dist-packages (from aiohttp->openai) (1.4.0)\n",
            "Requirement already satisfied: aiosignal>=1.1.2 in /usr/local/lib/python3.10/dist-packages (from aiohttp->openai) (1.3.1)\n",
            "Installing collected packages: openai\n",
            "Successfully installed openai-0.28.0\n"
          ]
        }
      ],
      "source": [
        "pip install openai"
      ]
    },
    {
      "cell_type": "markdown",
      "source": [
        "First Run\n",
        "\n",
        "Rubric: AP English Language and Composition rubric for argumentative essays\n",
        "\n",
        "Essay: Essay 1\n",
        "\n",
        "Model: GPT-4"
      ],
      "metadata": {
        "id": "eesKZOhn29wv"
      }
    },
    {
      "cell_type": "code",
      "source": [
        "import time\n",
        "import openai\n",
        "\n",
        "# Set your OpenAI API key\n",
        "openai.api_key = 'OpenAI API Key Goes Here'\n",
        "\n",
        "# The list to store the replies\n",
        "replies = []\n",
        "\n",
        "# Assuming SampleEssay and Rubric are defined\n",
        "# your sample essay goes here\n",
        "SampleEssay = \"\"\"\n",
        "\n",
        "Paste an essay to grade here\n",
        "\n",
        "\"\"\"\n",
        "\n",
        "# your rubric goes here\n",
        "Rubric = \"\"\"\n",
        "\n",
        "Pate a rubric to use for grading here\n",
        "\n",
        "\"\"\"\n",
        "\n",
        "# The prompt you want to send\n",
        "prompt = f\"I'm going to give you a rubric and an essay. Use the rubric to assess the quality of the essay. Reply with just the numerical score that you would give the essay and no other feedback or text. Here is the essay: {SampleEssay}, Here is the rubric: {Rubric}, Please calculate the total score of this essay based on the rubric given. Do not include the individual category scores or any additional text. Just provide the numerical score.\"\n",
        "\n",
        "# The loop\n",
        "for i in range(50):\n",
        "    response = openai.ChatCompletion.create(\n",
        "      model=\"gpt-4\",  # Specify the gpt-4 model or the gpt-3.5-turbo model\n",
        "      messages=[\n",
        "            {\"role\": \"system\", \"content\": \"You are a helpful assistant.\"},\n",
        "            {\"role\": \"user\", \"content\": prompt},\n",
        "        ]\n",
        "    )\n",
        "\n",
        "    # Append the assistant's reply to the list\n",
        "    replies.append(response['choices'][0]['message']['content'])\n",
        "\n",
        "    # Sleep for 5 seconds to avoid hitting the rate limit. You may need to adjust this based on your rate limits.\n",
        "    time.sleep(5)\n",
        "\n",
        "# Print the replies\n",
        "for i, reply in enumerate(replies):\n",
        "    print(f\"Reply {i+1}: {reply}\")\n"
      ],
      "metadata": {
        "id": "lph2o9Qi2_ug"
      },
      "execution_count": null,
      "outputs": []
    }
  ]
}